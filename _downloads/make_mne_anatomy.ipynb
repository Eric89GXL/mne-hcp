{
  "nbformat_minor": 0,
  "metadata": {
    "kernelspec": {
      "display_name": "Python 3",
      "language": "python",
      "name": "python3"
    },
    "language_info": {
      "file_extension": ".py",
      "nbconvert_exporter": "python",
      "codemirror_mode": {
        "name": "ipython",
        "version": 3
      },
      "version": "3.5.2",
      "pygments_lexer": "ipython3",
      "mimetype": "text/x-python",
      "name": "python"
    }
  },
  "nbformat": 4,
  "cells": [
    {
      "execution_count": null,
      "source": [
        "%matplotlib inline"
      ],
      "metadata": {
        "collapsed": false
      },
      "outputs": [],
      "cell_type": "code"
    },
    {
      "source": [
        "\n\n# Extract essential anatomy information\n\n\nThe HCP anatomy data needed for MNE based source analysis\nLive in different places and subfolders.\nMNE-HCP has a convenience function that exctracts the required\nfiles and information and creates a \"subjects_dir\" as known from\nMNE and freesurfer.\n\nThe most essential contents are\n- freesurfer surfaces\n- the MRI\n- the headmodel\n- the coregistration transform\n\nThis function is your friend prior to running any source analysis.\n\n"
      ],
      "metadata": {},
      "cell_type": "markdown"
    },
    {
      "execution_count": null,
      "source": [
        "# Author: Denis A. Engemann\n# License: BSD 3 clause\n\nimport os.path as op\nimport hcp\nstorage_dir = op.expanduser('~/data/MNE-HCP')\n\n# This is where the data are after downloading from HCP\nhcp_path = storage_dir + '/HCP'\n\n# this is the new directory to be created\nsubjects_dir = storage_dir + '/hcp-subjects'\n\n# it will make the subfolders 'bem', 'mir', 'surf' and 'label'\n# and populate it with symbolic links if possible and write some files\n# where information has to be presented in a different format to satisfy MNE.\n\n# this is where the coregistration matrix is written as\n# `105923-head_mri-transform.fif`\nrecordings_path = storage_dir + '/hcp-meg'\n\n# comment out to write files on your disk\n# hcp.make_mne_anatomy(\n#     subject='105923', hcp_path=hcp_path,\n#     recordings_path=recordings_path,\n#     subjects_dir=subjects_dir)"
      ],
      "metadata": {
        "collapsed": false
      },
      "outputs": [],
      "cell_type": "code"
    }
  ]
}