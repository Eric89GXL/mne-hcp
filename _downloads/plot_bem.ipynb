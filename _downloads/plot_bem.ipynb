{
  "nbformat": 4,
  "cells": [
    {
      "execution_count": null,
      "outputs": [],
      "source": [
        "%matplotlib inline"
      ],
      "metadata": {
        "collapsed": false
      },
      "cell_type": "code"
    },
    {
      "source": [
        "\n# Plot the head model inside MRI to check anatomical alignment\n\n\nMNE-HCP facilitates source level analysis by supporting linkage between\nMRT/anatomy files and the MEG data.\nHere, inspect the head model that is used to compute the BEM solution.\n\n"
      ],
      "metadata": {},
      "cell_type": "markdown"
    },
    {
      "execution_count": null,
      "outputs": [],
      "source": [
        "# Author: Jona Sassenhagen\n#         Denis A. Engemann\n# License: BSD 3 clause\n\nimport os.path as op\n\nfrom mne.viz import plot_bem\n# from mne.bem import make_watershed_bem\n\nstorage_dir = op.expanduser('~/mne-hcp-data')\nsubject = '105923'\nsubjects_dir = storage_dir + '/hcp-subjects'"
      ],
      "metadata": {
        "collapsed": false
      },
      "cell_type": "code"
    },
    {
      "source": [
        "We assume that all directory structures are set up.\nCheckout `:func:hcp.make_mne_anatomy` to achieve this necessary step\n\n"
      ],
      "metadata": {},
      "cell_type": "markdown"
    },
    {
      "execution_count": null,
      "outputs": [],
      "source": [
        "plot_bem(subject=subject, subjects_dir=subjects_dir)"
      ],
      "metadata": {
        "collapsed": false
      },
      "cell_type": "code"
    }
  ],
  "metadata": {
    "language_info": {
      "file_extension": ".py",
      "name": "python",
      "version": "3.5.2",
      "mimetype": "text/x-python",
      "pygments_lexer": "ipython3",
      "nbconvert_exporter": "python",
      "codemirror_mode": {
        "name": "ipython",
        "version": 3
      }
    },
    "kernelspec": {
      "display_name": "Python 3",
      "name": "python3",
      "language": "python"
    }
  },
  "nbformat_minor": 0
}