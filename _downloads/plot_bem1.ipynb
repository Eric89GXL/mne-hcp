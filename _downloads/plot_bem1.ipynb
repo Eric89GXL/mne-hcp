{
  "nbformat_minor": 0,
  "metadata": {
    "language_info": {
      "name": "python",
      "codemirror_mode": {
        "name": "ipython",
        "version": 3
      },
      "nbconvert_exporter": "python",
      "mimetype": "text/x-python",
      "file_extension": ".py",
      "version": "3.5.2",
      "pygments_lexer": "ipython3"
    },
    "kernelspec": {
      "name": "python3",
      "language": "python",
      "display_name": "Python 3"
    }
  },
  "nbformat": 4,
  "cells": [
    {
      "cell_type": "code",
      "metadata": {
        "collapsed": false
      },
      "execution_count": null,
      "source": [
        "%matplotlib inline"
      ],
      "outputs": []
    },
    {
      "cell_type": "markdown",
      "metadata": {},
      "source": [
        "\n# Plot the head model inside MRI to check anatomical alignment\n\n\nMNE-HCP facilitates source level analysis by supporting linkage between\nMRT/anatomy files and the MEG data.\nHere, inspect the head model that is used to compute the BEM solution.\n\n"
      ]
    },
    {
      "cell_type": "code",
      "metadata": {
        "collapsed": false
      },
      "execution_count": null,
      "source": [
        "# Author: Jona Sassenhagen\n#         Denis A. Engemann\n# License: BSD 3 clause\n\nimport os.path as op\n\nfrom mne.viz import plot_bem\n# from mne.bem import make_watershed_bem\n\nstorage_dir = op.expanduser('~/mne-hcp-data')\nsubject = '105923'\nsubjects_dir = storage_dir + '/hcp-subjects'"
      ],
      "outputs": []
    },
    {
      "cell_type": "markdown",
      "metadata": {},
      "source": [
        "We assume that all directory structures are set up.\nCheckout :func:`hcp.make_mne_anatomy` to achieve this necessary step.\nSee also `tut_make_anatomy`.\n\n"
      ]
    },
    {
      "cell_type": "code",
      "metadata": {
        "collapsed": false
      },
      "execution_count": null,
      "source": [
        "plot_bem(subject=subject, subjects_dir=subjects_dir)"
      ],
      "outputs": []
    }
  ]
}