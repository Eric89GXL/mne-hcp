{
  "metadata": {
    "kernelspec": {
      "display_name": "Python 3",
      "language": "python",
      "name": "python3"
    },
    "language_info": {
      "file_extension": ".py",
      "pygments_lexer": "ipython3",
      "codemirror_mode": {
        "version": 3,
        "name": "ipython"
      },
      "mimetype": "text/x-python",
      "name": "python",
      "version": "3.5.2",
      "nbconvert_exporter": "python"
    }
  },
  "cells": [
    {
      "metadata": {
        "collapsed": false
      },
      "source": [
        "%matplotlib inline"
      ],
      "cell_type": "code",
      "execution_count": null,
      "outputs": []
    },
    {
      "metadata": {},
      "source": [
        "\n# Interpolate channel that are missing in an HCP output file\n\n\nWe'll take a look at the coregistration here.\n\n"
      ],
      "cell_type": "markdown"
    },
    {
      "metadata": {
        "collapsed": false
      },
      "source": [
        "# Author: Denis A. Enegemann\n# License: BSD 3 clause\n\nimport os.path as op\n\nimport mne\n\nfrom hcp import io\nfrom hcp import preprocessing as preproc\n\nmne.set_log_level('WARNING')"
      ],
      "cell_type": "code",
      "execution_count": null,
      "outputs": []
    },
    {
      "metadata": {},
      "source": [
        "we assume our data is inside a designated folder under $HOME\nand set the IO params\n\n"
      ],
      "cell_type": "markdown"
    },
    {
      "metadata": {
        "collapsed": false
      },
      "source": [
        "storage_dir = op.expanduser('~')\n\nhcp_params = dict(hcp_path=op.join(storage_dir, 'mne-hcp-data', 'HCP'),\n                  subject='105923',\n                  data_type='task_working_memory')"
      ],
      "cell_type": "code",
      "execution_count": null,
      "outputs": []
    },
    {
      "metadata": {},
      "source": [
        "we take the some evoked and create an interpolated copy\n\n"
      ],
      "cell_type": "markdown"
    },
    {
      "metadata": {
        "collapsed": false
      },
      "source": [
        "evoked = io.read_evokeds_hcp(**hcp_params)[1]\n\n# The HCP pipelines don't interpolate missing channels\nprint('%i channels out of 248 expected' % len(evoked.ch_names))\n\nevoked_interpolated = preproc.interpolate_missing(evoked, **hcp_params)"
      ],
      "cell_type": "code",
      "execution_count": null,
      "outputs": []
    },
    {
      "metadata": {},
      "source": [
        "Let's visualize what has changed!\n\n"
      ],
      "cell_type": "markdown"
    },
    {
      "metadata": {
        "collapsed": false
      },
      "source": [
        "# we calculate the difference ...\nbads = set(evoked_interpolated.ch_names) - set(evoked.ch_names)\nprint(bads)\n\n# ... and mark the respective channels as bad ...\nevoked_interpolated.info['bads'] += list(bads)\n\n# ... such that MNE is displaying the interpolated time series in red ...\nevoked_interpolated.plot(exclude=[])"
      ],
      "cell_type": "code",
      "execution_count": null,
      "outputs": []
    }
  ],
  "nbformat": 4,
  "nbformat_minor": 0
}