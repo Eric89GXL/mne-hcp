{
  "nbformat_minor": 0,
  "nbformat": 4,
  "metadata": {
    "language_info": {
      "file_extension": ".py",
      "codemirror_mode": {
        "name": "ipython",
        "version": 3
      },
      "mimetype": "text/x-python",
      "nbconvert_exporter": "python",
      "name": "python",
      "version": "3.5.2",
      "pygments_lexer": "ipython3"
    },
    "kernelspec": {
      "name": "python3",
      "language": "python",
      "display_name": "Python 3"
    }
  },
  "cells": [
    {
      "source": [
        "%matplotlib inline"
      ],
      "execution_count": null,
      "outputs": [],
      "metadata": {
        "collapsed": false
      },
      "cell_type": "code"
    },
    {
      "source": [
        "\n# Interpolate channel that are missing in an HCP output file\n\n\nWe'll take a look at the coregistration here.\n\n"
      ],
      "metadata": {},
      "cell_type": "markdown"
    },
    {
      "source": [
        "# Author: Denis A. Enegemann\n# License: BSD 3 clause\n\nimport os.path as op\n\nimport mne\n\nfrom hcp import io\nfrom hcp import preprocessing as preproc\n\nmne.set_log_level('WARNING')"
      ],
      "execution_count": null,
      "outputs": [],
      "metadata": {
        "collapsed": false
      },
      "cell_type": "code"
    },
    {
      "source": [
        "we assume our data is inside a designated folder under $HOME\nand set the IO params\n\n"
      ],
      "metadata": {},
      "cell_type": "markdown"
    },
    {
      "source": [
        "storage_dir = op.expanduser('~')\n\nhcp_params = dict(hcp_path=op.join(storage_dir, 'mne-hcp-data', 'HCP'),\n                  subject='105923',\n                  data_type='task_working_memory')"
      ],
      "execution_count": null,
      "outputs": [],
      "metadata": {
        "collapsed": false
      },
      "cell_type": "code"
    },
    {
      "source": [
        "we take the some evoked and create an interpolated copy\n\n"
      ],
      "metadata": {},
      "cell_type": "markdown"
    },
    {
      "source": [
        "evoked = io.read_evokeds_hcp(**hcp_params)[0]\n\n# The HCP pipelines don't interpolate missing channels\nprint('%i channels out of 248 expected' % len(evoked.ch_names))\n\nevoked_interpolated = preproc.interpolate_missing(evoked, **hcp_params)"
      ],
      "execution_count": null,
      "outputs": [],
      "metadata": {
        "collapsed": false
      },
      "cell_type": "code"
    },
    {
      "source": [
        "Let's visualize what has changed!\n\n"
      ],
      "metadata": {},
      "cell_type": "markdown"
    },
    {
      "source": [
        "# we calculate the difference ...\nbads = set(evoked_interpolated.ch_names) - set(evoked.ch_names)\nprint(bads)\n\n# ... and mark the respective channels as bad ...\nevoked_interpolated.info['bads'] += list(bads)\n\n# ... such that MNE is displaying the interpolated time series in red ...\nevoked_interpolated.plot(exclude=[])"
      ],
      "execution_count": null,
      "outputs": [],
      "metadata": {
        "collapsed": false
      },
      "cell_type": "code"
    }
  ]
}