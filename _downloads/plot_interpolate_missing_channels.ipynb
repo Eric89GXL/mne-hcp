{
  "metadata": {
    "kernelspec": {
      "language": "python",
      "name": "python3",
      "display_name": "Python 3"
    },
    "language_info": {
      "file_extension": ".py",
      "pygments_lexer": "ipython3",
      "nbconvert_exporter": "python",
      "codemirror_mode": {
        "name": "ipython",
        "version": 3
      },
      "name": "python",
      "mimetype": "text/x-python",
      "version": "3.5.2"
    }
  },
  "nbformat": 4,
  "nbformat_minor": 0,
  "cells": [
    {
      "execution_count": null,
      "cell_type": "code",
      "metadata": {
        "collapsed": false
      },
      "outputs": [],
      "source": [
        "%matplotlib inline"
      ]
    },
    {
      "metadata": {},
      "cell_type": "markdown",
      "source": [
        "\n# Interpolate channel that are missing in an HCP output file\n\n\nWe'll take a look at the coregistration here.\n\n"
      ]
    },
    {
      "execution_count": null,
      "cell_type": "code",
      "metadata": {
        "collapsed": false
      },
      "outputs": [],
      "source": [
        "# Author: Denis A. Enegemann\n# License: BSD 3 clause\n\nimport os.path as op\n\nimport mne\n\nfrom hcp import io\nfrom hcp import preprocessing as preproc\n\nmne.set_log_level('WARNING')"
      ]
    },
    {
      "metadata": {},
      "cell_type": "markdown",
      "source": [
        "we assume our data is inside a designated folder under $HOME\nand set the IO params\n\n"
      ]
    },
    {
      "execution_count": null,
      "cell_type": "code",
      "metadata": {
        "collapsed": false
      },
      "outputs": [],
      "source": [
        "storage_dir = op.expanduser('~')\n\nhcp_params = dict(hcp_path=op.join(storage_dir, 'mne-hcp-data', 'HCP'),\n                  subject='105923',\n                  data_type='task_working_memory')"
      ]
    },
    {
      "metadata": {},
      "cell_type": "markdown",
      "source": [
        "we take the some evoked and create an interpolated copy\n\n"
      ]
    },
    {
      "execution_count": null,
      "cell_type": "code",
      "metadata": {
        "collapsed": false
      },
      "outputs": [],
      "source": [
        "evoked = io.read_evokeds_hcp(**hcp_params)[0]\n\n# The HCP pipelines don't interpolate missing channels\nprint('%i channels out of 248 expected' % len(evoked.ch_names))\n\nevoked_interpolated = preproc.interpolate_missing(evoked, **hcp_params)"
      ]
    },
    {
      "metadata": {},
      "cell_type": "markdown",
      "source": [
        "Let's visualize what has changed!\n\n"
      ]
    },
    {
      "execution_count": null,
      "cell_type": "code",
      "metadata": {
        "collapsed": false
      },
      "outputs": [],
      "source": [
        "# we calculate the difference ...\nbads = set(evoked_interpolated.ch_names) - set(evoked.ch_names)\nprint(bads)\n\n# ... and mark the respective channels as bad ...\nevoked_interpolated.info['bads'] += list(bads)\n\n# ... such that MNE is displaying the interpolated time series in red ...\nevoked_interpolated.plot(exclude=[])"
      ]
    }
  ]
}