{
  "nbformat": 4,
  "cells": [
    {
      "outputs": [],
      "metadata": {
        "collapsed": false
      },
      "execution_count": null,
      "source": [
        "%matplotlib inline"
      ],
      "cell_type": "code"
    },
    {
      "source": [
        "\n# Apply reference channel correction\n\n\nApply reference channels and see what happens.\n\n"
      ],
      "metadata": {},
      "cell_type": "markdown"
    },
    {
      "outputs": [],
      "metadata": {
        "collapsed": false
      },
      "execution_count": null,
      "source": [
        "# Author: Denis A. Enegemann\n# License: BSD 3 clause\n\n# import os\nimport os.path as op\n\nimport numpy as np\nimport matplotlib.pyplot as plt\nfrom scipy.signal import welch\n\nimport mne\nimport hcp\nfrom hcp.preprocessing import apply_ref_correction"
      ],
      "cell_type": "code"
    },
    {
      "source": [
        "We first set parameters\n\n"
      ],
      "metadata": {},
      "cell_type": "markdown"
    },
    {
      "outputs": [],
      "metadata": {
        "collapsed": false
      },
      "execution_count": null,
      "source": [
        "storage_dir = op.join(op.expanduser('~'), 'mne-hcp-data')\nhcp_path = op.join(storage_dir, 'HCP')\nsubject = '105923'\ndata_type = 'rest'\nrun_index = 0"
      ],
      "cell_type": "code"
    },
    {
      "source": [
        "Then we define a spectral plotter for convenience\n\n"
      ],
      "metadata": {},
      "cell_type": "markdown"
    },
    {
      "outputs": [],
      "metadata": {
        "collapsed": false
      },
      "execution_count": null,
      "source": [
        "def plot_psd(X, label, Fs, NFFT, color=None):\n\n    freqs, psd = welch(X, fs=Fs, window='hanning', nperseg=NFFT,\n                       noverlap=int(NFFT * 0.8))\n    freqs = freqs[freqs > 0]\n    psd = psd[freqs > 0]\n    plt.plot(np.log10(freqs), 10 * np.log10(psd.ravel()), label=label,\n             color=color)"
      ],
      "cell_type": "code"
    },
    {
      "source": [
        "Now we read in the data\n\nThen we plot the power spectrum of the MEG and reference channels,\napply the reference correction and add the resulting cleaned MEG channels\nto our comparison.\n\n"
      ],
      "metadata": {},
      "cell_type": "markdown"
    },
    {
      "outputs": [],
      "metadata": {
        "collapsed": false
      },
      "execution_count": null,
      "source": [
        "raw = hcp.io.read_raw_hcp(subject=subject, hcp_path=hcp_path,\n                          run_index=run_index, data_type=data_type)\nraw.load_data()\n\n# get meg and ref channels\nmeg_picks = mne.pick_types(raw.info, meg=True, ref_meg=False)\nref_picks = mne.pick_types(raw.info, ref_meg=True, meg=False)\n\n\n# put single channel aside for comparison later\nchan1 = raw[meg_picks[0]][0]\n\n# add some plotting parameter\ndecim_fit = 100  # we lean a purely spatial model, we don't need all samples\ndecim_show = 10  # we can make plotting faster\nn_fft = 2 ** 15  # let's use long windows to see low frequencies\n\n# we put aside the time series for later plotting\nx_meg = raw[meg_picks][0][:, ::decim_show].mean(0)\nx_meg_ref = raw[ref_picks][0][:, ::decim_show].mean(0)"
      ],
      "cell_type": "code"
    },
    {
      "source": [
        "Now we apply the ref correction (in place).\n\n"
      ],
      "metadata": {},
      "cell_type": "markdown"
    },
    {
      "outputs": [],
      "metadata": {
        "collapsed": false
      },
      "execution_count": null,
      "source": [
        "apply_ref_correction(raw)"
      ],
      "cell_type": "code"
    },
    {
      "source": [
        "That was the easiest part! Let's now plot everything.\n\n"
      ],
      "metadata": {},
      "cell_type": "markdown"
    },
    {
      "outputs": [],
      "metadata": {
        "collapsed": false
      },
      "execution_count": null,
      "source": [
        "plt.figure(figsize=(9, 6))\nplot_psd(x_meg, Fs=raw.info['sfreq'], NFFT=n_fft, label='MEG', color='black')\nplot_psd(x_meg_ref, Fs=raw.info['sfreq'], NFFT=n_fft, label='MEG-REF',\n         color='red')\nplot_psd(raw[meg_picks][0][:, ::decim_show].mean(0), Fs=raw.info['sfreq'],\n         NFFT=n_fft, label='MEG-corrected', color='orange')\n\nplt.legend()\nplt.xticks(np.log10([0.1, 1, 10, 100]), [0.1, 1, 10, 100])\nplt.xlim(np.log10([0.1, 300]))\nplt.xlabel('log10(frequency) [Hz]')\nplt.ylabel('Power Spectral Density [dB]')\nplt.grid()\nplt.show()"
      ],
      "cell_type": "code"
    },
    {
      "source": [
        "We can see that the ref correction removes low frequencies which is expected\n\n"
      ],
      "metadata": {},
      "cell_type": "markdown"
    },
    {
      "source": [
        "By comparing single channel time series we can also see the detrending effect\n\n"
      ],
      "metadata": {},
      "cell_type": "markdown"
    },
    {
      "outputs": [],
      "metadata": {
        "collapsed": false
      },
      "execution_count": null,
      "source": [
        "chan1c = raw[meg_picks[0]][0]\nch_name = raw.ch_names[meg_picks[0]]\n\nplt.figure()\nplt.plot(raw.times, chan1.ravel() * 1e15, label='%s before' % ch_name,\n         color='black')\nplt.plot(raw.times, chan1c.ravel() * 1e15, label='%s after' % ch_name,\n         color='orange')\nplt.xlim(raw.times[[0, -1]])\nplt.legend(loc='upper left')\nplt.ylabel('Magnetometer [fT]')\nplt.xlabel('Time [seconds]')\nplt.grid()\nplt.show()"
      ],
      "cell_type": "code"
    }
  ],
  "nbformat_minor": 0,
  "metadata": {
    "language_info": {
      "nbconvert_exporter": "python",
      "mimetype": "text/x-python",
      "name": "python",
      "pygments_lexer": "ipython3",
      "codemirror_mode": {
        "version": 3,
        "name": "ipython"
      },
      "version": "3.5.2",
      "file_extension": ".py"
    },
    "kernelspec": {
      "name": "python3",
      "display_name": "Python 3",
      "language": "python"
    }
  }
}