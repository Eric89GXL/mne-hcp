{
  "metadata": {
    "kernelspec": {
      "display_name": "Python 3",
      "language": "python",
      "name": "python3"
    },
    "language_info": {
      "file_extension": ".py",
      "pygments_lexer": "ipython3",
      "codemirror_mode": {
        "version": 3,
        "name": "ipython"
      },
      "mimetype": "text/x-python",
      "name": "python",
      "version": "3.5.2",
      "nbconvert_exporter": "python"
    }
  },
  "cells": [
    {
      "metadata": {
        "collapsed": false
      },
      "source": [
        "%matplotlib inline"
      ],
      "cell_type": "code",
      "execution_count": null,
      "outputs": []
    },
    {
      "metadata": {},
      "source": [
        "\n# Read and plot coregistration\n\n\nWe'll take a look at the coregistration here.\n\n"
      ],
      "cell_type": "markdown"
    },
    {
      "metadata": {
        "collapsed": false
      },
      "source": [
        "# Author: Denis A. Enegemann\n# License: BSD 3 clause\n\nimport os.path as op\n\nfrom hcp.viz import plot_coregistration"
      ],
      "cell_type": "code",
      "execution_count": null,
      "outputs": []
    },
    {
      "metadata": {},
      "source": [
        "we assume our data is inside a designated folder under $HOME\n\n"
      ],
      "cell_type": "markdown"
    },
    {
      "metadata": {
        "collapsed": false
      },
      "source": [
        "storage_dir = op.expanduser('~/mne-hcp-data')"
      ],
      "cell_type": "code",
      "execution_count": null,
      "outputs": []
    },
    {
      "metadata": {},
      "source": [
        "and we assume to have the downloaded data, the MNE/freesurfer style\nanatomy directory, and the MNE style MEG directory.\nthese can be obtained from :func:`make_mne_anatomy`\n\n"
      ],
      "cell_type": "markdown"
    },
    {
      "metadata": {
        "collapsed": false
      },
      "source": [
        "hcp_params = dict(\n    subject='100307',\n    hcp_path=op.join(storage_dir, 'HCP'),\n    anatomy_path=op.join(storage_dir, 'subjects'),\n    recordings_path=op.join(storage_dir, 'hcp-meg'))"
      ],
      "cell_type": "code",
      "execution_count": null,
      "outputs": []
    },
    {
      "metadata": {},
      "source": [
        "let's plot two views\n\n"
      ],
      "cell_type": "markdown"
    },
    {
      "metadata": {
        "collapsed": false
      },
      "source": [
        "for azim in (0, 90):\n    plot_coregistration(\n        view_init=(('azim', azim), ('elev', 0)), **hcp_params)"
      ],
      "cell_type": "code",
      "execution_count": null,
      "outputs": []
    }
  ],
  "nbformat": 4,
  "nbformat_minor": 0
}