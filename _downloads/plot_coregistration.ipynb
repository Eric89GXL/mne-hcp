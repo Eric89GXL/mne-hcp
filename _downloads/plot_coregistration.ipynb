{
  "nbformat_minor": 0,
  "nbformat": 4,
  "cells": [
    {
      "execution_count": null,
      "outputs": [],
      "cell_type": "code",
      "metadata": {
        "collapsed": false
      },
      "source": [
        "%matplotlib inline"
      ]
    },
    {
      "cell_type": "markdown",
      "metadata": {},
      "source": [
        "\n# Read and plot coregistration\n\n\nWe'll take a look at the coregistration here.\n\n"
      ]
    },
    {
      "execution_count": null,
      "outputs": [],
      "cell_type": "code",
      "metadata": {
        "collapsed": false
      },
      "source": [
        "# Author: Denis A. Enegemann\n# License: BSD 3 clause\n\nimport os.path as op\n\nfrom hcp.viz import plot_coregistration"
      ]
    },
    {
      "cell_type": "markdown",
      "metadata": {},
      "source": [
        "we assume our data is inside a designated folder under $HOME\n\n"
      ]
    },
    {
      "execution_count": null,
      "outputs": [],
      "cell_type": "code",
      "metadata": {
        "collapsed": false
      },
      "source": [
        "storage_dir = op.expanduser('~/mne-hcp-data')"
      ]
    },
    {
      "cell_type": "markdown",
      "metadata": {},
      "source": [
        "and we assume to have the downloaded data, the MNE/freesurfer style\nanatomy directory, and the MNE style MEG directory.\nthese can be obtained from :func:`make_mne_anatomy`\n\n"
      ]
    },
    {
      "execution_count": null,
      "outputs": [],
      "cell_type": "code",
      "metadata": {
        "collapsed": false
      },
      "source": [
        "hcp_params = dict(\n    subject='100307',\n    hcp_path=op.join(storage_dir, 'HCP'),\n    anatomy_path=op.join(storage_dir, 'subjects'),\n    recordings_path=op.join(storage_dir, 'hcp-meg'))"
      ]
    },
    {
      "cell_type": "markdown",
      "metadata": {},
      "source": [
        "let's plot two views\n\n"
      ]
    },
    {
      "execution_count": null,
      "outputs": [],
      "cell_type": "code",
      "metadata": {
        "collapsed": false
      },
      "source": [
        "for azim in (0, 90):\n    plot_coregistration(\n        view_init=(('azim', azim), ('elev', 0)), **hcp_params)"
      ]
    }
  ],
  "metadata": {
    "kernelspec": {
      "language": "python",
      "display_name": "Python 3",
      "name": "python3"
    },
    "language_info": {
      "nbconvert_exporter": "python",
      "name": "python",
      "file_extension": ".py",
      "version": "3.5.2",
      "mimetype": "text/x-python",
      "codemirror_mode": {
        "name": "ipython",
        "version": 3
      },
      "pygments_lexer": "ipython3"
    }
  }
}