{
  "metadata": {
    "kernelspec": {
      "language": "python",
      "name": "python3",
      "display_name": "Python 3"
    },
    "language_info": {
      "file_extension": ".py",
      "pygments_lexer": "ipython3",
      "nbconvert_exporter": "python",
      "codemirror_mode": {
        "name": "ipython",
        "version": 3
      },
      "name": "python",
      "mimetype": "text/x-python",
      "version": "3.5.2"
    }
  },
  "nbformat": 4,
  "nbformat_minor": 0,
  "cells": [
    {
      "execution_count": null,
      "cell_type": "code",
      "metadata": {
        "collapsed": false
      },
      "outputs": [],
      "source": [
        "%matplotlib inline"
      ]
    },
    {
      "metadata": {},
      "cell_type": "markdown",
      "source": [
        "\n# Read and plot coregistration\n\n\nWe'll take a look at the coregistration here.\n\n"
      ]
    },
    {
      "execution_count": null,
      "cell_type": "code",
      "metadata": {
        "collapsed": false
      },
      "outputs": [],
      "source": [
        "# Author: Denis A. Enegemann\n# License: BSD 3 clause\n\nimport os.path as op\n\nfrom hcp.viz import plot_coregistration"
      ]
    },
    {
      "metadata": {},
      "cell_type": "markdown",
      "source": [
        "we assume our data is inside a designated folder under $HOME\n\n"
      ]
    },
    {
      "execution_count": null,
      "cell_type": "code",
      "metadata": {
        "collapsed": false
      },
      "outputs": [],
      "source": [
        "storage_dir = op.expanduser('~/mne-hcp-data')"
      ]
    },
    {
      "metadata": {},
      "cell_type": "markdown",
      "source": [
        "and we assume to have the downloaded data, the MNE/freesurfer style\nanatomy directory, and the MNE style MEG directory.\nthese can be obtained from :func:`make_mne_anatomy`\n\n"
      ]
    },
    {
      "execution_count": null,
      "cell_type": "code",
      "metadata": {
        "collapsed": false
      },
      "outputs": [],
      "source": [
        "hcp_params = dict(\n    subject='105923',\n    hcp_path=op.join(storage_dir, 'HCP'),\n    subjects_dir=op.join(storage_dir, 'subjects'),\n    recordings_path=op.join(storage_dir, 'hcp-meg'))"
      ]
    },
    {
      "metadata": {},
      "cell_type": "markdown",
      "source": [
        "let's plot two views\n\n"
      ]
    },
    {
      "execution_count": null,
      "cell_type": "code",
      "metadata": {
        "collapsed": false
      },
      "outputs": [],
      "source": [
        "for azim in (0, 90):\n    plot_coregistration(\n        view_init=(('azim', azim), ('elev', 0)), **hcp_params)"
      ]
    }
  ]
}