{
  "cells": [
    {
      "execution_count": null,
      "source": [
        "%matplotlib inline"
      ],
      "metadata": {
        "collapsed": false
      },
      "cell_type": "code",
      "outputs": []
    },
    {
      "metadata": {},
      "cell_type": "markdown",
      "source": [
        "\n# Read and plot coregistration\n\n\nWe'll take a look at the coregistration here.\n\n"
      ]
    },
    {
      "execution_count": null,
      "source": [
        "# Author: Denis A. Enegemann\n# License: BSD 3 clause\n\nimport os.path as op\n\nfrom hcp.viz import plot_coregistration"
      ],
      "metadata": {
        "collapsed": false
      },
      "cell_type": "code",
      "outputs": []
    },
    {
      "metadata": {},
      "cell_type": "markdown",
      "source": [
        "we assume our data is inside a designated folder under $HOME\n\n"
      ]
    },
    {
      "execution_count": null,
      "source": [
        "storage_dir = op.expanduser('~/mne-hcp-data')"
      ],
      "metadata": {
        "collapsed": false
      },
      "cell_type": "code",
      "outputs": []
    },
    {
      "metadata": {},
      "cell_type": "markdown",
      "source": [
        "and we assume to have the downloaded data, the MNE/freesurfer style\nanatomy directory, and the MNE style MEG directory.\nthese can be obtained from :func:`make_mne_anatomy`.\nSee also `tut_make_anatomy`.\n\n"
      ]
    },
    {
      "execution_count": null,
      "source": [
        "hcp_params = dict(\n    subject='105923',\n    hcp_path=op.join(storage_dir, 'HCP'),\n    subjects_dir=op.join(storage_dir, 'subjects'),\n    recordings_path=op.join(storage_dir, 'hcp-meg'))"
      ],
      "metadata": {
        "collapsed": false
      },
      "cell_type": "code",
      "outputs": []
    },
    {
      "metadata": {},
      "cell_type": "markdown",
      "source": [
        "let's plot two views\n\n"
      ]
    },
    {
      "execution_count": null,
      "source": [
        "for azim in (0, 90):\n    plot_coregistration(\n        view_init=(('azim', azim), ('elev', 0)), **hcp_params)"
      ],
      "metadata": {
        "collapsed": false
      },
      "cell_type": "code",
      "outputs": []
    }
  ],
  "nbformat": 4,
  "nbformat_minor": 0,
  "metadata": {
    "kernelspec": {
      "display_name": "Python 3",
      "name": "python3",
      "language": "python"
    },
    "language_info": {
      "name": "python",
      "version": "3.5.2",
      "nbconvert_exporter": "python",
      "codemirror_mode": {
        "name": "ipython",
        "version": 3
      },
      "pygments_lexer": "ipython3",
      "file_extension": ".py",
      "mimetype": "text/x-python"
    }
  }
}